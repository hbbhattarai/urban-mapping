{
 "cells": [
  {
   "cell_type": "code",
   "execution_count": 4,
   "id": "f5b4a763-9855-4d68-8fe2-ead855c5618c",
   "metadata": {},
   "outputs": [],
   "source": [
    "from pyrsgis import raster\n",
    "from pyrsgis.convert import changeDimension\n",
    "from sklearn.model_selection import train_test_split\n",
    "from tensorflow import keras\n",
    "\n",
    "from sklearn.metrics import confusion_matrix, precision_score, recall_score\n",
    "\n",
    "\n",
    "import rasterio as rio\n",
    "from rasterio.merge import merge\n",
    "from rasterio.plot import show\n",
    "from rasterio import plot\n",
    "import matplotlib.pyplot as plt\n",
    "import numpy as np\n",
    "from  glob import glob\n",
    "\n",
    "\n",
    "%matplotlib inline"
   ]
  },
  {
   "cell_type": "code",
   "execution_count": 5,
   "id": "37805c1b-8e73-4234-bbff-639964b02b39",
   "metadata": {},
   "outputs": [
    {
     "data": {
      "text/plain": [
       "['Data\\\\L8_Phuentsholing_2021.tif',\n",
       " 'Data\\\\L8_Sarpang_2021.tif',\n",
       " 'Data\\\\L8_Thimphu_2021.tif',\n",
       " 'Data\\\\Thimphu_2012_Builtup_mask.tif']"
      ]
     },
     "execution_count": 5,
     "metadata": {},
     "output_type": "execute_result"
    }
   ],
   "source": [
    "images = glob(\"Data/*.tif\")\n",
    "\n",
    "images"
   ]
  },
  {
   "cell_type": "code",
   "execution_count": 6,
   "id": "06d3a169-4352-4480-8a8e-d62e8063c1c4",
   "metadata": {},
   "outputs": [],
   "source": [
    "train_mx = rio.open(\"Data/L8_Thimphu_2021.tif\")\n",
    "predict_mx = rio.open(\"Data/L8_Sarpang_2021.tif\")\n",
    "train_builtup = rio.open(\"Data/Thimphu_2012_Builtup_mask.tif\")"
   ]
  },
  {
   "cell_type": "code",
   "execution_count": 7,
   "id": "64f6f3d1-3361-4d79-a1fc-7080dd89f542",
   "metadata": {},
   "outputs": [],
   "source": [
    "# fig,(ax1,ax2,ax3) = plt.subplots(1,3,figsize =(16,8))\n",
    "# plot.show(banglore_mx,ax=ax1)\n",
    "# plot.show(hyderbad_mx,ax=ax2)\n",
    "# plot.show(banglore_builtup,ax=ax3)\n",
    "# fig.tight_layout()"
   ]
  },
  {
   "cell_type": "markdown",
   "id": "b3eb0531-5153-4e36-af09-bda17477d754",
   "metadata": {},
   "source": [
    "## Neural Network"
   ]
  },
  {
   "cell_type": "raw",
   "id": "4c7b730a-68b2-4e67-8588-3b61affc2156",
   "metadata": {},
   "source": [
    "train_mx = \"Data/L8_Thimphu_2021.tif\"\n",
    "predict_mx = \"Data/L8_Sarpang_2021.tif\"\n",
    "train_builtup = \"Data/Thimphu_2012_Builtup_mask.tif\""
   ]
  },
  {
   "cell_type": "code",
   "execution_count": 9,
   "id": "573133ca-bfe2-420a-9cb7-efb5cae7afe7",
   "metadata": {},
   "outputs": [],
   "source": [
    "ds1, featuresTrain = raster.read(train_mx, bands='all')\n",
    "ds2, labelTrain = raster.read(train_builtup, bands=1)\n",
    "ds3, featuresPredict = raster.read(predict_mx, bands='all')"
   ]
  },
  {
   "cell_type": "markdown",
   "id": "2981d37e-48b0-4d39-be24-a37a72be3f92",
   "metadata": {},
   "source": [
    "## printing data size"
   ]
  },
  {
   "cell_type": "code",
   "execution_count": 10,
   "id": "9c528218-b2b5-4880-a818-f8b90f97bae4",
   "metadata": {},
   "outputs": [
    {
     "name": "stdout",
     "output_type": "stream",
     "text": [
      "banglore_mx shape:  (7, 525, 248)\n",
      "banglore_builtup shape:  (525, 248)\n",
      "hyderbad_mx shape:  (7, 1875, 2589)\n"
     ]
    }
   ],
   "source": [
    "print(\"train_mx shape: \", featuresTrain.shape)\n",
    "print(\"train_builtup shape: \", labelTrain.shape)\n",
    "print(\"predict_mx shape: \", featuresPredict.shape)"
   ]
  },
  {
   "cell_type": "markdown",
   "id": "e0f5a327-0ef0-49c9-ac65-db8949c85bd5",
   "metadata": {},
   "source": [
    "## Changing Dimension of data"
   ]
  },
  {
   "cell_type": "code",
   "execution_count": 11,
   "id": "fbd09e11-1daa-40df-9c2f-ca3a6a751522",
   "metadata": {},
   "outputs": [
    {
     "name": "stdout",
     "output_type": "stream",
     "text": [
      "The \"changeDimension()\" function has moved to \"array_to_table()\" and will be deprecated in future versions. Please check the pyrsgis documentation at https://pyrsgis.readthedocs.io/en/master/ for more details.\n",
      "The \"changeDimension()\" function has moved to \"array_to_table()\" and will be deprecated in future versions. Please check the pyrsgis documentation at https://pyrsgis.readthedocs.io/en/master/ for more details.\n",
      "The \"changeDimension()\" function has moved to \"array_to_table()\" and will be deprecated in future versions. Please check the pyrsgis documentation at https://pyrsgis.readthedocs.io/en/master/ for more details.\n"
     ]
    }
   ],
   "source": [
    "featuresTrain = changeDimension(featuresTrain)\n",
    "labelTrain = changeDimension (labelTrain)\n",
    "featuresPredict = changeDimension(featuresPredict)\n",
    "nBands = featuresBangalore.shape[1]\n",
    "labelBangalore = (labelBangalore == 1).astype(int)\n"
   ]
  },
  {
   "cell_type": "markdown",
   "id": "bfda7115-6a8e-48ba-bbff-ddc8a6263b82",
   "metadata": {
    "tags": []
   },
   "source": [
    "## Verifying dimension change"
   ]
  },
  {
   "cell_type": "code",
   "execution_count": 12,
   "id": "a9cbf5b7-df80-4cbe-813d-f9e5dc52f539",
   "metadata": {},
   "outputs": [
    {
     "name": "stdout",
     "output_type": "stream",
     "text": [
      "banglore_mx shape:  (130200, 7)\n",
      "banglore_builtup shape:  (130200,)\n",
      "hyderbad_mx shape:  (4854375, 7)\n"
     ]
    }
   ],
   "source": [
    "print(\"train_mx shape: \", featuresPredict.shape)\n",
    "print(\"train_builtup shape: \", labelTrain.shape)\n",
    "print(\"predict_mx shape: \", featuresPredict.shape)"
   ]
  },
  {
   "cell_type": "markdown",
   "id": "6599acb7-7fed-4bcd-9f37-a87a759fee6e",
   "metadata": {},
   "source": [
    "## Training dataset"
   ]
  },
  {
   "cell_type": "code",
   "execution_count": 13,
   "id": "24ca0b1e-6ea7-4cc0-aee8-25597aed3d7e",
   "metadata": {},
   "outputs": [
    {
     "name": "stdout",
     "output_type": "stream",
     "text": [
      "(78120, 7)\n",
      "(78120,)\n"
     ]
    }
   ],
   "source": [
    "xTrain, xTest, yTrain, yTest = train_test_split(featuresTrain, labelTrain, test_size=0.4, random_state=42)\n",
    "\n",
    "print(xTrain.shape)\n",
    "print(yTrain.shape)"
   ]
  },
  {
   "cell_type": "markdown",
   "id": "559f270f-9632-4965-ab6a-96383df516ed",
   "metadata": {},
   "source": [
    "# Normalise the data"
   ]
  },
  {
   "cell_type": "code",
   "execution_count": 14,
   "id": "b2d61943-7807-4691-817d-7c918d333a1c",
   "metadata": {},
   "outputs": [],
   "source": [
    "xTrain = xTrain / 255.0\n",
    "xTest = xTest / 255.0\n",
    "featuresPredict = featuresPredict / 255.0"
   ]
  },
  {
   "cell_type": "code",
   "execution_count": 15,
   "id": "f38519eb-cf74-466d-826d-9c34f94e982d",
   "metadata": {},
   "outputs": [
    {
     "name": "stdout",
     "output_type": "stream",
     "text": [
      "(78120, 7)\n",
      "(52080, 7)\n",
      "(4854375, 7)\n"
     ]
    }
   ],
   "source": [
    "print(xTrain.shape)\n",
    "print(xTest.shape)\n",
    "print(featuresPredict.shape)"
   ]
  },
  {
   "cell_type": "markdown",
   "id": "470e88b0-0fd2-41cb-a614-c77a94c47561",
   "metadata": {},
   "source": [
    "## Reshape the data"
   ]
  },
  {
   "cell_type": "code",
   "execution_count": 16,
   "id": "09176417-da6c-4f71-b07f-9c77a117b31d",
   "metadata": {},
   "outputs": [],
   "source": [
    "xTrain = xTrain.reshape((xTrain.shape[0], 1, xTrain.shape[1]))\n",
    "xTest = xTest.reshape((xTest.shape[0], 1, xTest.shape[1]))\n",
    "featuresPredict = featuresPredict.reshape((featuresPredict.shape[0], 1, featuresPredict.shape[1]))\n"
   ]
  },
  {
   "cell_type": "markdown",
   "id": "7c187cf2-2dfa-47b9-9046-66f76200edb2",
   "metadata": {
    "tags": []
   },
   "source": [
    "## Verifying reshaped "
   ]
  },
  {
   "cell_type": "code",
   "execution_count": 17,
   "id": "254c8c5d-cbaf-4405-ab6d-024ebb0eceb7",
   "metadata": {},
   "outputs": [
    {
     "name": "stdout",
     "output_type": "stream",
     "text": [
      "(78120, 1, 7) (52080, 1, 7) (4854375, 1, 7)\n"
     ]
    }
   ],
   "source": [
    "print(xTrain.shape, xTest.shape, featuresPredict.shape)"
   ]
  },
  {
   "cell_type": "markdown",
   "id": "22142469-c136-46a1-b77e-d398168a0eb6",
   "metadata": {},
   "source": [
    "## Define model parameters"
   ]
  },
  {
   "cell_type": "code",
   "execution_count": 18,
   "id": "b527b99e-e98a-4906-9af0-5c54e3d3b309",
   "metadata": {},
   "outputs": [],
   "source": [
    "model = keras.Sequential([\n",
    "    keras.layers.Flatten(input_shape=(1, nBands)),\n",
    "    keras.layers.Dense(14, activation='relu'),\n",
    "    keras.layers.Dense(2, activation='softmax')])"
   ]
  },
  {
   "cell_type": "markdown",
   "id": "549f7ddb-cc86-4033-b1f7-ecfe3dfbcdd3",
   "metadata": {},
   "source": [
    "## Define the accuracy metrics and parameters"
   ]
  },
  {
   "cell_type": "code",
   "execution_count": 19,
   "id": "5bc5b5fc-ed7c-4cea-a922-f19624aad85c",
   "metadata": {},
   "outputs": [],
   "source": [
    "model.compile(optimizer=\"adam\", loss=\"sparse_categorical_crossentropy\", metrics=[\"accuracy\"])"
   ]
  },
  {
   "cell_type": "code",
   "execution_count": 20,
   "id": "6877727d-c45f-4d96-94ef-8a1b05eee954",
   "metadata": {},
   "outputs": [],
   "source": [
    "## Run the model"
   ]
  },
  {
   "cell_type": "code",
   "execution_count": 21,
   "id": "38ce7871-0856-4617-8c2f-0b9c8a3296bf",
   "metadata": {},
   "outputs": [
    {
     "name": "stdout",
     "output_type": "stream",
     "text": [
      "Epoch 1/2\n",
      "78120/78120 [==============================] - 5s 61us/step - loss: 14.1758 - acc: 0.1205\n",
      "Epoch 2/2\n",
      "78120/78120 [==============================] - 4s 57us/step - loss: 14.1758 - acc: 0.1205\n"
     ]
    },
    {
     "data": {
      "text/plain": [
       "<tensorflow.python.keras.callbacks.History at 0x214c95da160>"
      ]
     },
     "execution_count": 21,
     "metadata": {},
     "output_type": "execute_result"
    }
   ],
   "source": [
    "model.fit(xTrain, yTrain, epochs=2)"
   ]
  },
  {
   "cell_type": "markdown",
   "id": "bf8ac8c8-8ef1-41b6-8949-7f33edc0963b",
   "metadata": {},
   "source": [
    "## Predict for test data "
   ]
  },
  {
   "cell_type": "code",
   "execution_count": 22,
   "id": "eddeee37-6529-4bad-a51a-19677d3bceb2",
   "metadata": {},
   "outputs": [],
   "source": [
    "yTestPredicted = model.predict(xTest)\n",
    "yTestPredicted = yTestPredicted[:,1]"
   ]
  },
  {
   "cell_type": "markdown",
   "id": "0eacb69d-a0d1-4d1e-a914-4104e2729ed4",
   "metadata": {},
   "source": [
    "## Calculate and display the error metrics"
   ]
  },
  {
   "cell_type": "code",
   "execution_count": 23,
   "id": "703cecbf-36e2-485d-88f8-eef84cb07253",
   "metadata": {},
   "outputs": [],
   "source": [
    "yTestPredicted = (yTestPredicted>0.5).astype(int)\n",
    "cMatrix = confusion_matrix(yTest, yTestPredicted)\n",
    "pScore = precision_score(yTest, yTestPredicted)\n",
    "rScore = recall_score(yTest, yTestPredicted)"
   ]
  },
  {
   "cell_type": "markdown",
   "id": "4d7897ec-6380-4acb-85aa-67e4897fe834",
   "metadata": {},
   "source": [
    "## Printing the score"
   ]
  },
  {
   "cell_type": "code",
   "execution_count": 24,
   "id": "0330e3e0-1068-4f92-8a0d-48548347255b",
   "metadata": {},
   "outputs": [
    {
     "name": "stdout",
     "output_type": "stream",
     "text": [
      "Confusion matrix: for 14 nodes\n",
      " [[    0 45765]\n",
      " [    0  6315]]\n",
      "\n",
      "P-Score: 0.121, R-Score: 1.000\n"
     ]
    }
   ],
   "source": [
    "print(\"Confusion matrix: for 14 nodes\\n\", cMatrix)\n",
    "print(\"\\nP-Score: %.3f, R-Score: %.3f\" % (pScore, rScore))"
   ]
  },
  {
   "cell_type": "markdown",
   "id": "5cdada8b-6d25-4298-bb4d-b4fa6f5f0ea9",
   "metadata": {},
   "source": [
    "## Export the predicted area"
   ]
  },
  {
   "cell_type": "code",
   "execution_count": 25,
   "id": "6eef7ba1-6b22-44bd-ac45-6ad929c99c4d",
   "metadata": {},
   "outputs": [],
   "source": [
    "predicted = model.predict(featuresPredict)\n",
    "predicted = predicted[:,1]\n",
    "\n",
    "\n",
    "prediction = np.reshape(predicted, (ds3.RasterYSize, ds3.RasterXSize))\n",
    "outFile = 'Predicted_2021_BuiltupNN1.tif'\n",
    "raster.export(prediction, ds3, filename=outFile, dtype='float')"
   ]
  },
  {
   "cell_type": "markdown",
   "id": "8ba1a325-7662-4ce3-8490-2c07d6d965f2",
   "metadata": {},
   "source": [
    "## Display predicted Image"
   ]
  },
  {
   "cell_type": "code",
   "execution_count": 26,
   "id": "bbcd402e-9f95-49df-8254-7b96d30d0ec2",
   "metadata": {},
   "outputs": [
    {
     "data": {
      "image/png": "[encoded data removed]",
      "text/plain": [
       "<Figure size 432x288 with 1 Axes>"
      ]
     },
     "metadata": {
      "needs_background": "light"
     },
     "output_type": "display_data"
    },
    {
     "data": {
      "text/plain": [
       "<AxesSubplot:>"
      ]
     },
     "execution_count": 26,
     "metadata": {},
     "output_type": "execute_result"
    }
   ],
   "source": [
    "show(prediction)"
   ]
  },
  {
   "cell_type": "code",
   "execution_count": null,
   "id": "1e3bc723-ebce-4637-818f-0c92b49245f9",
   "metadata": {},
   "outputs": [],
   "source": []
  }
 ],
 "metadata": {
  "kernelspec": {
   "display_name": "Python 3",
   "language": "python",
   "name": "python3"
  },
  "language_info": {
   "codemirror_mode": {
    "name": "ipython",
    "version": 3
   },
   "file_extension": ".py",
   "mimetype": "text/x-python",
   "name": "python",
   "nbconvert_exporter": "python",
   "pygments_lexer": "ipython3",
   "version": "3.6.13"
  },
  "vscode": {
   "interpreter": {
    "hash": "13ef28521a3a3d79ed89f424fa85c09a6dea22081986a10f27b2114130dad01c"
   }
  }
 },
 "nbformat": 4,
 "nbformat_minor": 5
}
