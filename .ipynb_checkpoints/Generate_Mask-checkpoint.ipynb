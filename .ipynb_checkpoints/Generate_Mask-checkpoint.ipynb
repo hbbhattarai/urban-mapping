{
 "cells": [
  {
   "cell_type": "code",
   "execution_count": 21,
   "id": "1da34466-4908-4d8b-a058-bae81faaacf7",
   "metadata": {},
   "outputs": [
    {
     "ename": "ModuleNotFoundError",
     "evalue": "No module named 'plotly'",
     "output_type": "error",
     "traceback": [
      "\u001b[1;31m---------------------------------------------------------------------------\u001b[0m",
      "\u001b[1;31mModuleNotFoundError\u001b[0m                       Traceback (most recent call last)",
      "\u001b[1;32m<ipython-input-21-5ed3bcca1307>\u001b[0m in \u001b[0;36m<module>\u001b[1;34m\u001b[0m\n\u001b[0;32m     11\u001b[0m \u001b[1;32mfrom\u001b[0m \u001b[0mmatplotlib\u001b[0m\u001b[1;33m.\u001b[0m\u001b[0mcolors\u001b[0m \u001b[1;32mimport\u001b[0m \u001b[0mListedColormap\u001b[0m\u001b[1;33m\u001b[0m\u001b[1;33m\u001b[0m\u001b[0m\n\u001b[0;32m     12\u001b[0m \u001b[1;33m\u001b[0m\u001b[0m\n\u001b[1;32m---> 13\u001b[1;33m \u001b[1;32mimport\u001b[0m \u001b[0mplotly\u001b[0m\u001b[1;33m.\u001b[0m\u001b[0mgraph_objects\u001b[0m \u001b[1;32mas\u001b[0m \u001b[0mgo\u001b[0m\u001b[1;33m\u001b[0m\u001b[1;33m\u001b[0m\u001b[0m\n\u001b[0m\u001b[0;32m     14\u001b[0m \u001b[1;33m\u001b[0m\u001b[0m\n\u001b[0;32m     15\u001b[0m \u001b[1;33m\u001b[0m\u001b[0m\n",
      "\u001b[1;31mModuleNotFoundError\u001b[0m: No module named 'plotly'"
     ]
    }
   ],
   "source": [
    "from glob import glob\n",
    "\n",
    "import earthpy as et\n",
    "import earthpy.spatial as es\n",
    "import earthpy.plot as ep\n",
    "\n",
    "import rasterio as rio\n",
    "\n",
    "import matplotlib.pyplot as plt\n",
    "import numpy as np\n",
    "from matplotlib.colors import ListedColormap\n",
    "\n",
    "import plotly.graph_objects as go\n",
    "\n",
    "\n",
    "%matplotlib inline\n",
    "\n",
    "np.seterr(divide= 'ignore', over= 'warn', under= 'ignore', invalid='ignore')"
   ]
  },
  {
   "cell_type": "code",
   "execution_count": 22,
   "id": "b8ac2fd2-d1dc-4d5f-9f17-1f1dfe99acc8",
   "metadata": {},
   "outputs": [],
   "source": [
    "landsat_mx_bands = glob(\"data/*B?.tif\")\n"
   ]
  },
  {
   "cell_type": "code",
   "execution_count": 23,
   "id": "c41097d3-4c92-48bd-b74b-291e0cf0b8a8",
   "metadata": {},
   "outputs": [],
   "source": [
    "landsat_mx_bands.sort() "
   ]
  },
  {
   "cell_type": "code",
   "execution_count": 24,
   "id": "222a0725-871c-4bd4-8cea-aa150f44b8c8",
   "metadata": {},
   "outputs": [
    {
     "data": {
      "text/plain": [
       "['data\\\\LC08_L2SP_138041_20220327_20220330_02_T1_SR_B1.TIF',\n",
       " 'data\\\\LC08_L2SP_138041_20220327_20220330_02_T1_SR_B2.TIF',\n",
       " 'data\\\\LC08_L2SP_138041_20220327_20220330_02_T1_SR_B3.TIF',\n",
       " 'data\\\\LC08_L2SP_138041_20220327_20220330_02_T1_SR_B4.TIF',\n",
       " 'data\\\\LC08_L2SP_138041_20220327_20220330_02_T1_SR_B5.TIF',\n",
       " 'data\\\\LC08_L2SP_138041_20220327_20220330_02_T1_SR_B6.TIF',\n",
       " 'data\\\\LC08_L2SP_138041_20220327_20220330_02_T1_SR_B7.TIF']"
      ]
     },
     "execution_count": 24,
     "metadata": {},
     "output_type": "execute_result"
    }
   ],
   "source": [
    "landsat_mx_bands"
   ]
  },
  {
   "cell_type": "code",
   "execution_count": null,
   "id": "9fd36e1d-d401-4fa9-9d94-1c8f6eac8535",
   "metadata": {},
   "outputs": [],
   "source": [
    "l = []\n",
    "\n",
    "for i in landsat_mx_bands:\n",
    "  with rio.open(i, 'r') as f:\n",
    "    l.append(f.read(1))\n",
    "    \n",
    "landsat_image_array = np.stack(l)"
   ]
  },
  {
   "cell_type": "code",
   "execution_count": null,
   "id": "0611b65f-97a8-4c4c-91e9-ab879df112e0",
   "metadata": {},
   "outputs": [],
   "source": [
    "landsat_image_array"
   ]
  },
  {
   "cell_type": "code",
   "execution_count": null,
   "id": "af21a440-3734-4730-9def-6dc6517220b8",
   "metadata": {},
   "outputs": [],
   "source": [
    "ep.plot_bands(landsat_image_array, cmap = 'gist_earth', figsize = (20, 12), cols =4,cbar = False)\n",
    "plt.show()"
   ]
  },
  {
   "cell_type": "code",
   "execution_count": null,
   "id": "34eecc71-85a0-4f85-8f60-2075ffb160f2",
   "metadata": {},
   "outputs": [],
   "source": [
    "# True Color Composite Mapping"
   ]
  },
  {
   "cell_type": "code",
   "execution_count": null,
   "id": "161ed52a-55e3-4f98-898c-ca8deb4a2e77",
   "metadata": {},
   "outputs": [],
   "source": [
    "rgb = ep.plot_rgb(landsat_image_array,rgb=(4, 3, 2))\n",
    "plt.show()"
   ]
  },
  {
   "cell_type": "code",
   "execution_count": 14,
   "id": "fee5299e-0f92-4492-bd8c-3f535d0c5faf",
   "metadata": {},
   "outputs": [],
   "source": [
    "# NDVI -Normalized Difference Vegetation Index"
   ]
  },
  {
   "cell_type": "code",
   "execution_count": null,
   "id": "8ee47dd0-f047-4c86-a2ae-47621017b69e",
   "metadata": {},
   "outputs": [],
   "source": [
    "ndvi = es.normalized_diff(landsat_image_array[5], landsat_image_array[4])\n",
    "\n",
    "ep.plot_bands(ndvi, cmap=\"RdYlGn\", cols=1, vmin=-1, vmax=1, figsize=(10, 14))\n",
    "\n",
    "plt.show()"
   ]
  },
  {
   "cell_type": "code",
   "execution_count": null,
   "id": "bb586889-da82-4429-acd2-a40e2502aff6",
   "metadata": {},
   "outputs": [],
   "source": [
    "# NDBI - Normalized Difference Built-up Index"
   ]
  },
  {
   "cell_type": "code",
   "execution_count": null,
   "id": "c9189819-aa02-43d9-bf43-5a93af8a386a",
   "metadata": {},
   "outputs": [],
   "source": [
    "ndbi = es.normalized_diff(landsat_image_array[6], landsat_image_array[5])\n",
    "\n",
    "ep.plot_bands(ndbi, cmap=\"RdYlGn\", cols=1, vmin=-1, vmax=1, figsize=(10, 14))\n",
    "\n",
    "plt.show()"
   ]
  },
  {
   "cell_type": "code",
   "execution_count": null,
   "id": "7cd636e1-7620-44ef-b0de-46232432d16e",
   "metadata": {},
   "outputs": [],
   "source": [
    "# Built-Up (BU)"
   ]
  },
  {
   "cell_type": "code",
   "execution_count": null,
   "id": "44424c0d-70eb-49af-b555-624f78a23493",
   "metadata": {},
   "outputs": [],
   "source": [
    "bu = (ndbi - ndvi)\n",
    "\n",
    "ep.plot_bands(ndbi, cmap=\"RdYlGn\", cols=1, vmin=-1, vmax=1, figsize=(10, 14))\n",
    "\n",
    "plt.show()"
   ]
  }
 ],
 "metadata": {
  "kernelspec": {
   "display_name": "Python 3",
   "language": "python",
   "name": "python3"
  },
  "language_info": {
   "codemirror_mode": {
    "name": "ipython",
    "version": 3
   },
   "file_extension": ".py",
   "mimetype": "text/x-python",
   "name": "python",
   "nbconvert_exporter": "python",
   "pygments_lexer": "ipython3",
   "version": "3.6.13"
  }
 },
 "nbformat": 4,
 "nbformat_minor": 5
}
